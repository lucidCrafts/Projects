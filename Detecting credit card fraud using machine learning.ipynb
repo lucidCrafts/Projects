{
  "nbformat": 4,
  "nbformat_minor": 0,
  "metadata": {
    "colab": {
      "provenance": []
    },
    "kernelspec": {
      "name": "python3",
      "display_name": "Python 3"
    },
    "language_info": {
      "name": "python"
    }
  },
  "cells": [
    {
      "cell_type": "code",
      "source": [
        "import pandas as pd\n",
        "import numpy as np\n",
        "from sklearn.preprocessing import RobustScaler\n",
        "from sklearn.model_selection import train_test_split\n",
        "from sklearn.linear_model import LogisticRegression\n",
        "from sklearn.metrics import classification_report, roc_curve, auc\n",
        "from sklearn.metrics import confusion_matrix\n",
        "import matplotlib.pyplot as plt\n",
        "import seaborn as sns\n",
        "from sklearn.svm import LinearSVC\n",
        "\n",
        "\n",
        "from tensorflow.keras.models import Sequential\n",
        "from tensorflow.keras.layers import InputLayer, Dense, BatchNormalization\n",
        "from tensorflow.keras.callbacks import ModelCheckpoint\n",
        "\n",
        "from keras.models import Sequential\n",
        "from keras.layers import InputLayer, Dense, BatchNormalization\n",
        "from keras.callbacks import ModelCheckpoint\n"
      ],
      "metadata": {
        "id": "0_N1VA1NCd7I"
      },
      "execution_count": 58,
      "outputs": []
    },
    {
      "cell_type": "markdown",
      "source": [
        "\n",
        "**Custom functions**"
      ],
      "metadata": {
        "id": "7ufUJrAJNqTw"
      }
    },
    {
      "cell_type": "code",
      "source": [],
      "metadata": {
        "id": "xwO7zHkbTIxo"
      },
      "execution_count": null,
      "outputs": []
    },
    {
      "cell_type": "code",
      "source": [
        "def Robust_Scaler_M(df,coloumns_to_scale):\n",
        "    new_df = df.copy()\n",
        "    rc = RobustScaler()\n",
        "    for c in coloumns_to_scale:\n",
        "      new_df[c]= rc.fit_transform(new_df[c].to_numpy().reshape(-1,1))\n",
        "\n",
        "    return new_df\n",
        "\n",
        "#coloumns_to_scale =['Time','Amount']\n",
        "#Call this fucntion Robust_Scaler_M(df,coloumns_to_scale)"
      ],
      "metadata": {
        "id": "7bsFj6NnMS1S"
      },
      "execution_count": 59,
      "outputs": []
    },
    {
      "cell_type": "code",
      "source": [],
      "metadata": {
        "id": "TM0DrTnZp0il"
      },
      "execution_count": null,
      "outputs": []
    },
    {
      "cell_type": "code",
      "source": [
        "def df_split(preprocessed_df):\n",
        "    train, test, val =preprocessed_df[:240000], preprocessed_df[240000:262000], preprocessed_df[262000:]\n",
        "    train['Class'].value_counts(), test['Class'].value_counts(), val['Class'].value_counts()\n",
        "    train_np, test_np, val_np = train.to_numpy(), test.to_numpy(), val.to_numpy()\n",
        "    train_np.shape, test_np.shape, val_np.shape\n",
        "    x_train, y_train = train_np[:,:-1], train_np[:,-1]\n",
        "    x_test, y_test = test_np[:,:-1], test_np[:,-1]\n",
        "    x_val, y_val = val_np[:,:-1], val_np[:,-1]\n",
        "    x_train.shape, y_train.shape, x_test.shape, y_test.shape, x_val.shape, y_val.shape\n",
        "    print(\"Shapes:\")\n",
        "    print(\"X_train:\", X_train.shape)\n",
        "    print(\"X_temp:\", X_temp.shape)\n",
        "    print(\"y_train:\", y_train.shape)\n",
        "    print(\"y_temp:\", y_temp.shape)\n",
        "    print(\"X_test:\", X_test.shape)\n",
        "    print(\"X_val:\", X_val.shape)\n",
        "    print(\"y_test:\", y_test.shape)\n",
        "    print(\"y_val:\", y_val.shape)\n",
        "    return x_train.shape, y_train.shape, x_test.shape, y_test.shape, x_val.shape, y_val.shape\n",
        "\n",
        "\n",
        "#Call this fucntion\n",
        "#X_train, X_test, X_val, y_train, y_test, y_val_1 = df_split(new_df)"
      ],
      "metadata": {
        "id": "lFr3xqvTqI4K"
      },
      "execution_count": 60,
      "outputs": []
    },
    {
      "cell_type": "markdown",
      "source": [
        "**Alternative way using train_test_split**\n"
      ],
      "metadata": {
        "id": "Blqq_yFGlEyg"
      }
    },
    {
      "cell_type": "code",
      "source": [
        "def t_t_s_skl(preprocessed_df, train_test_size, val_size):\n",
        "    X = preprocessed_df.drop(columns=['Class'])\n",
        "    y = preprocessed_df['Class']\n",
        "\n",
        "    X_train_1, X_temp_1, y_train_1, y_temp_1 = train_test_split(X, y, test_size=train_test_size, random_state=42)\n",
        "    X_test_1, X_val_1, y_test_1, y_val_1 = train_test_split(X_temp_1, y_temp_1, test_size=val_size, random_state=42)\n",
        "\n",
        "    print(\"Shapes:\")\n",
        "    print(\"X_train:\", X_train_1.shape)\n",
        "    print(\"X_temp:\", X_temp_1.shape)\n",
        "    print(\"y_train:\", y_train_1.shape)\n",
        "    print(\"y_temp:\", y_temp_1.shape)\n",
        "    print(\"X_test:\", X_test_1.shape)\n",
        "    print(\"X_val:\", X_val_1.shape)\n",
        "    print(\"y_test:\", y_test_1.shape)\n",
        "    print(\"y_val:\", y_val_1.shape)\n",
        "\n",
        "    return X_train_1, X_test_1, X_val_1, y_train_1, y_test_1, y_val_1\n",
        "\n",
        "# Call this function\n",
        "#X_train, X_test, X_val, y_train, y_test, y_val = t_t_s_skl(new_df, 0.2, 0.5)"
      ],
      "metadata": {
        "id": "DCTZbiVqnAvN"
      },
      "execution_count": 61,
      "outputs": []
    },
    {
      "cell_type": "markdown",
      "source": [
        "Model training Functions"
      ],
      "metadata": {
        "id": "UPvvv6Sn1Jqg"
      }
    },
    {
      "cell_type": "code",
      "source": [
        "def logistic_regression(X_train, y_train, X_test, y_test, X_val, y_val):\n",
        "    l_m = LogisticRegression()\n",
        "    l_m.fit(X_train, y_train)\n",
        "\n",
        "    t_train_pred_l_m = l_m.predict(X_train)\n",
        "    y_test_pred_l_m = l_m.predict(X_test)\n",
        "    y_val_pred_l_m = l_m.predict(X_val)\n",
        "\n",
        "    y_test_pred_prob_l_m = l_m.predict_proba(X_test)[:, 1]\n",
        "    y_val_pred_prob_l_m = l_m.predict_proba(X_val)[:, 1]\n",
        "\n",
        "    train_clf_report = classification_report(y_train, t_train_pred_l_m, target_names=['Not Fraud', 'Fraud'])\n",
        "    test_clf_report = classification_report(y_test, y_test_pred_l_m, target_names=['Not Fraud', 'Fraud'])\n",
        "    val_clf_report = classification_report(y_val, y_val_pred_l_m, target_names=['Not Fraud', 'Fraud'])\n",
        "\n",
        "    print(\"Metrics for the train data:\\n\", train_clf_report)\n",
        "    print(\"Metrics for the test data:\\n\", test_clf_report)\n",
        "    print(\"Metrics for the validation data:\\n\", val_clf_report)\n",
        "\n",
        "    fpr, tpr, thresholds = roc_curve(y_test, y_test_pred_prob_l_m)\n",
        "    roc_auc = auc(fpr, tpr)\n",
        "\n",
        "    return l_m, y_val_pred_l_m, y_val_pred_prob_l_m, fpr, tpr, thresholds, roc_auc\n",
        "\n",
        "# Call this function with the appropriate data\n",
        "#l_m, y_val_pred, y_val_pred_prob, fpr, tpr, thresholds, roc_auc = logistic_regression(X_train, y_train, X_test, y_test, X_val, y_val)\n"
      ],
      "metadata": {
        "id": "SQPIuWwkN2Ls"
      },
      "execution_count": 62,
      "outputs": []
    },
    {
      "cell_type": "code",
      "source": [
        "\n",
        "def neural_net(X_train, y_train, X_val, y_val):\n",
        "\n",
        "    shallow_nn = Sequential()\n",
        "    shallow_nn.add(InputLayer((X_train.shape[1],)))\n",
        "    shallow_nn.add(Dense(2, activation='relu'))\n",
        "    shallow_nn.add(BatchNormalization())\n",
        "    shallow_nn.add(Dense(1, activation='sigmoid'))\n",
        "\n",
        "    shallow_nn.compile(optimizer='adam', loss='binary_crossentropy', metrics=['accuracy'])\n",
        "    checkpoint = ModelCheckpoint('shallow_nn', save_best_only=True)\n",
        "\n",
        "    summary = shallow_nn.summary()\n",
        "    summary\n",
        "    num_epochs = int(input(\"Enter the number of epochs: \"))\n",
        "    shallow_model = shallow_nn.fit(X_train, y_train, validation_data=(X_val, y_val), epochs=num_epochs, callbacks=[checkpoint])\n",
        "    return summary, shallow_nn\n",
        "#Call this Function by # summary, shallow_nn_model= neural_net(X_train, y_train, X_val, y_val"
      ],
      "metadata": {
        "id": "kw4EuWPGqYgV"
      },
      "execution_count": 63,
      "outputs": []
    },
    {
      "cell_type": "code",
      "source": [
        "def random_forest(max_depth, n_jobs, X_train, y_train, X_val, y_val):\n",
        "    rf = RandomForestClassifier(max_depth=max_depth, n_jobs=n_jobs)\n",
        "    rf.fit(X_train, y_train)\n",
        "\n",
        "    y_val_pred = rf.predict(X_val)\n",
        "    print(\"Classification Report for Validation Data:\")\n",
        "    print(classification_report(y_val, y_val_pred, target_names=['Not Fraud', 'Fraud']))\n",
        "\n",
        "    return rf\n",
        "#Call this fucntion by # rf_model = random_forest(50,-1,X_train,y_train)"
      ],
      "metadata": {
        "id": "aq2c2ZwtnF61"
      },
      "execution_count": 64,
      "outputs": []
    },
    {
      "cell_type": "code",
      "source": [
        "\n",
        "def G_B_C(n_estimators,learning_rate, max_depth, X_train, y_train):\n",
        "    gbc = GradientBoostingClassifier(n_estimators=n_estimators, learning_rate=learning_rate, max_depth=1, random_state=0)\n",
        "    gbc.fit(X_train, y_train)\n",
        "    print(classification_report(y_val, gbc.predict(X_val), target_names=['Not Fraud', 'Fraud']))\n",
        "    return gbc\n",
        "\n",
        "# Call this fucntion by # g_b_c_model = G_B_C(50,1.0, 1, X_train, y_train)"
      ],
      "metadata": {
        "id": "UeNSDMzRwEjm"
      },
      "execution_count": 55,
      "outputs": []
    },
    {
      "cell_type": "code",
      "source": [],
      "metadata": {
        "id": "yhX07amwwFO9"
      },
      "execution_count": null,
      "outputs": []
    },
    {
      "cell_type": "markdown",
      "source": [
        "*Confusion matrix*"
      ],
      "metadata": {
        "id": "H1JNM1qgh5Qm"
      }
    },
    {
      "cell_type": "code",
      "source": [
        "\n",
        "def C_M_val(y_val, y_val_pred_l_m):\n",
        "    # Assuming you have y_true and y_pred defined\n",
        "    cm = confusion_matrix(y_val, y_val_pred_l_m)\n",
        "\n",
        "    # Plot Confusion Matrix as Heatmap\n",
        "    plt.figure(figsize=(8, 6))\n",
        "    sns.heatmap(cm, annot=True, fmt=\"d\", cmap=\"Blues\")\n",
        "    plt.xlabel('Predicted')\n",
        "    plt.ylabel('True')\n",
        "    plt.title('Confusion Matrix for the validation set')\n",
        "    plt.show()\n",
        "# Call this function by C_M_val(y_val, y_val_pred)"
      ],
      "metadata": {
        "id": "9PGZW9FvGHJp"
      },
      "execution_count": 65,
      "outputs": []
    },
    {
      "cell_type": "code",
      "source": [],
      "metadata": {
        "id": "YCImACoqGHS8"
      },
      "execution_count": null,
      "outputs": []
    },
    {
      "cell_type": "markdown",
      "source": [
        "*ROC Curve*"
      ],
      "metadata": {
        "id": "2YPVzfJsiBM_"
      }
    },
    {
      "cell_type": "code",
      "source": [
        "def plot_ROC_C(y_val, y_val_pred_prob_l_m):\n",
        "    # Plot ROC Curve\n",
        "    fpr, tpr, thresholds = roc_curve(y_val, y_val_pred_prob_l_m)\n",
        "    roc_auc = auc(fpr, tpr)\n",
        "\n",
        "    plt.figure(figsize=(8, 6))\n",
        "    plt.plot(fpr, tpr, color='darkorange', lw=2, label='ROC curve (area = %0.2f)' % roc_auc)\n",
        "    plt.plot([0, 1], [0, 1], color='navy', lw=2, linestyle='--')\n",
        "    plt.xlim([0.0, 1.0])\n",
        "    plt.ylim([0.0, 1.05])\n",
        "    plt.xlabel('False Positive Rate')\n",
        "    plt.ylabel('True Positive Rate')\n",
        "    plt.title('Receiver Operating Characteristic')\n",
        "    plt.legend(loc=\"lower right\")\n",
        "    plt.show()\n",
        "#Call this function by: plot_ROC_C(y_val, y_val_pred_prob_l_m)"
      ],
      "metadata": {
        "id": "iXx4mPFp_dHJ"
      },
      "execution_count": 66,
      "outputs": []
    },
    {
      "cell_type": "code",
      "source": [],
      "metadata": {
        "id": "Ma7Bd_gRlDbo"
      },
      "execution_count": null,
      "outputs": []
    },
    {
      "cell_type": "code",
      "source": [],
      "metadata": {
        "id": "aglgDNEnlDeX"
      },
      "execution_count": null,
      "outputs": []
    },
    {
      "cell_type": "code",
      "source": [
        "________________________________________________________________________________________________________________________________________________________"
      ],
      "metadata": {
        "id": "HTKWMxrJwPze"
      },
      "execution_count": null,
      "outputs": []
    },
    {
      "cell_type": "code",
      "source": [],
      "metadata": {
        "id": "tiMf0Z7ZCLGc"
      },
      "execution_count": null,
      "outputs": []
    },
    {
      "cell_type": "markdown",
      "source": [
        "*Predict using differnt models*"
      ],
      "metadata": {
        "id": "mtBbzXijCNDV"
      }
    },
    {
      "cell_type": "code",
      "source": [
        "\n",
        "def predict_m(model, X_train):\n",
        "    return (model.predict(X_train).flatten() > 0.5).astype(int)\n",
        "\n",
        "#Call  this function by # predict_m(shallow_nn, X_train)\n",
        "\n",
        "models = ['shallow_nn_model','l_m','rf_model','g_b_c_model','S_V_C_model']"
      ],
      "metadata": {
        "id": "DsMyMSayfgG8"
      },
      "execution_count": null,
      "outputs": []
    },
    {
      "cell_type": "code",
      "source": [
        "predict_m(shallow_nn, X_train)"
      ],
      "metadata": {
        "id": "pKcayU6DCKeg"
      },
      "execution_count": null,
      "outputs": []
    },
    {
      "cell_type": "code",
      "source": [],
      "metadata": {
        "id": "mRXovOuLfgJk"
      },
      "execution_count": null,
      "outputs": []
    },
    {
      "cell_type": "code",
      "source": [],
      "metadata": {
        "id": "k3GT1PA0fgMc"
      },
      "execution_count": null,
      "outputs": []
    },
    {
      "cell_type": "markdown",
      "source": [
        "**Balance dataframe with 50% of each classes**"
      ],
      "metadata": {
        "id": "yPiXt24ufTcp"
      }
    },
    {
      "cell_type": "code",
      "source": [
        "def dataframe_b(unbalanced_df):\n",
        "    not_frauds = new_df.query('Class == 0')\n",
        "    frauds = new_df.query('Class == 1')\n",
        "    not_frauds['Class'].value_counts(), frauds['Class'].value_counts()\n",
        "    balanced_dataframe= unbalanced_df.sample(len(frauds), random_state=33)\n",
        "    balanced_dataframe = unbalanced_df.sample(frac=1, random_state=1)\n",
        "    return balanced_dataframe\n",
        "\n",
        "# Call this fucntion by balanced_dataframe = dataframe_b(new_df)"
      ],
      "metadata": {
        "id": "TQ-fj9Csfeob"
      },
      "execution_count": 67,
      "outputs": []
    },
    {
      "cell_type": "code",
      "source": [],
      "metadata": {
        "id": "ya8GFX9yrhKz"
      },
      "execution_count": null,
      "outputs": []
    },
    {
      "cell_type": "code",
      "source": [],
      "metadata": {
        "id": "oCPRHK-kRHth"
      },
      "execution_count": null,
      "outputs": []
    },
    {
      "cell_type": "code",
      "source": [
        "from google.colab import drive\n",
        "drive.mount('/content/drive/')\n"
      ],
      "metadata": {
        "colab": {
          "base_uri": "https://localhost:8080/"
        },
        "id": "d3okhroSRHxA",
        "outputId": "cafdefbb-2c7e-4465-c555-e78be6c7cf5b"
      },
      "execution_count": 68,
      "outputs": [
        {
          "output_type": "stream",
          "name": "stdout",
          "text": [
            "Drive already mounted at /content/drive/; to attempt to forcibly remount, call drive.mount(\"/content/drive/\", force_remount=True).\n"
          ]
        }
      ]
    },
    {
      "cell_type": "code",
      "source": [
        "!unzip /content/drive/MyDrive/CApstone_Project/Credit_Card_Fraud.zip\n"
      ],
      "metadata": {
        "colab": {
          "base_uri": "https://localhost:8080/"
        },
        "id": "a6OUx1lTRH0X",
        "outputId": "13bcf9d1-0133-48e6-839e-dd7dd82aab08"
      },
      "execution_count": 69,
      "outputs": [
        {
          "output_type": "stream",
          "name": "stdout",
          "text": [
            "Archive:  /content/drive/MyDrive/CApstone_Project/Credit_Card_Fraud.zip\n",
            "replace Credit_Card_Fraud/Credit_Card_Fraud_ProblemStatement.docx? [y]es, [n]o, [A]ll, [N]one, [r]ename: "
          ]
        }
      ]
    },
    {
      "cell_type": "code",
      "source": [
        "df = pd.read_csv('/content/Credit_Card_Fraud/creditcard.csv')\n",
        "df\n"
      ],
      "metadata": {
        "colab": {
          "base_uri": "https://localhost:8080/",
          "height": 443
        },
        "id": "7Aw9s8o6RH3E",
        "outputId": "21df52e7-d904-4d53-ab61-70c1988d9a73"
      },
      "execution_count": 71,
      "outputs": [
        {
          "output_type": "execute_result",
          "data": {
            "text/plain": [
              "            Time         V1         V2        V3        V4        V5  \\\n",
              "0            0.0  -1.359807  -0.072781  2.536347  1.378155 -0.338321   \n",
              "1            0.0   1.191857   0.266151  0.166480  0.448154  0.060018   \n",
              "2            1.0  -1.358354  -1.340163  1.773209  0.379780 -0.503198   \n",
              "3            1.0  -0.966272  -0.185226  1.792993 -0.863291 -0.010309   \n",
              "4            2.0  -1.158233   0.877737  1.548718  0.403034 -0.407193   \n",
              "...          ...        ...        ...       ...       ...       ...   \n",
              "284802  172786.0 -11.881118  10.071785 -9.834783 -2.066656 -5.364473   \n",
              "284803  172787.0  -0.732789  -0.055080  2.035030 -0.738589  0.868229   \n",
              "284804  172788.0   1.919565  -0.301254 -3.249640 -0.557828  2.630515   \n",
              "284805  172788.0  -0.240440   0.530483  0.702510  0.689799 -0.377961   \n",
              "284806  172792.0  -0.533413  -0.189733  0.703337 -0.506271 -0.012546   \n",
              "\n",
              "              V6        V7        V8        V9  ...       V21       V22  \\\n",
              "0       0.462388  0.239599  0.098698  0.363787  ... -0.018307  0.277838   \n",
              "1      -0.082361 -0.078803  0.085102 -0.255425  ... -0.225775 -0.638672   \n",
              "2       1.800499  0.791461  0.247676 -1.514654  ...  0.247998  0.771679   \n",
              "3       1.247203  0.237609  0.377436 -1.387024  ... -0.108300  0.005274   \n",
              "4       0.095921  0.592941 -0.270533  0.817739  ... -0.009431  0.798278   \n",
              "...          ...       ...       ...       ...  ...       ...       ...   \n",
              "284802 -2.606837 -4.918215  7.305334  1.914428  ...  0.213454  0.111864   \n",
              "284803  1.058415  0.024330  0.294869  0.584800  ...  0.214205  0.924384   \n",
              "284804  3.031260 -0.296827  0.708417  0.432454  ...  0.232045  0.578229   \n",
              "284805  0.623708 -0.686180  0.679145  0.392087  ...  0.265245  0.800049   \n",
              "284806 -0.649617  1.577006 -0.414650  0.486180  ...  0.261057  0.643078   \n",
              "\n",
              "             V23       V24       V25       V26       V27       V28  Amount  \\\n",
              "0      -0.110474  0.066928  0.128539 -0.189115  0.133558 -0.021053  149.62   \n",
              "1       0.101288 -0.339846  0.167170  0.125895 -0.008983  0.014724    2.69   \n",
              "2       0.909412 -0.689281 -0.327642 -0.139097 -0.055353 -0.059752  378.66   \n",
              "3      -0.190321 -1.175575  0.647376 -0.221929  0.062723  0.061458  123.50   \n",
              "4      -0.137458  0.141267 -0.206010  0.502292  0.219422  0.215153   69.99   \n",
              "...          ...       ...       ...       ...       ...       ...     ...   \n",
              "284802  1.014480 -0.509348  1.436807  0.250034  0.943651  0.823731    0.77   \n",
              "284803  0.012463 -1.016226 -0.606624 -0.395255  0.068472 -0.053527   24.79   \n",
              "284804 -0.037501  0.640134  0.265745 -0.087371  0.004455 -0.026561   67.88   \n",
              "284805 -0.163298  0.123205 -0.569159  0.546668  0.108821  0.104533   10.00   \n",
              "284806  0.376777  0.008797 -0.473649 -0.818267 -0.002415  0.013649  217.00   \n",
              "\n",
              "        Class  \n",
              "0           0  \n",
              "1           0  \n",
              "2           0  \n",
              "3           0  \n",
              "4           0  \n",
              "...       ...  \n",
              "284802      0  \n",
              "284803      0  \n",
              "284804      0  \n",
              "284805      0  \n",
              "284806      0  \n",
              "\n",
              "[284807 rows x 31 columns]"
            ],
            "text/html": [
              "\n",
              "  <div id=\"df-a4820a06-38cc-4913-889c-da461c5af09a\" class=\"colab-df-container\">\n",
              "    <div>\n",
              "<style scoped>\n",
              "    .dataframe tbody tr th:only-of-type {\n",
              "        vertical-align: middle;\n",
              "    }\n",
              "\n",
              "    .dataframe tbody tr th {\n",
              "        vertical-align: top;\n",
              "    }\n",
              "\n",
              "    .dataframe thead th {\n",
              "        text-align: right;\n",
              "    }\n",
              "</style>\n",
              "<table border=\"1\" class=\"dataframe\">\n",
              "  <thead>\n",
              "    <tr style=\"text-align: right;\">\n",
              "      <th></th>\n",
              "      <th>Time</th>\n",
              "      <th>V1</th>\n",
              "      <th>V2</th>\n",
              "      <th>V3</th>\n",
              "      <th>V4</th>\n",
              "      <th>V5</th>\n",
              "      <th>V6</th>\n",
              "      <th>V7</th>\n",
              "      <th>V8</th>\n",
              "      <th>V9</th>\n",
              "      <th>...</th>\n",
              "      <th>V21</th>\n",
              "      <th>V22</th>\n",
              "      <th>V23</th>\n",
              "      <th>V24</th>\n",
              "      <th>V25</th>\n",
              "      <th>V26</th>\n",
              "      <th>V27</th>\n",
              "      <th>V28</th>\n",
              "      <th>Amount</th>\n",
              "      <th>Class</th>\n",
              "    </tr>\n",
              "  </thead>\n",
              "  <tbody>\n",
              "    <tr>\n",
              "      <th>0</th>\n",
              "      <td>0.0</td>\n",
              "      <td>-1.359807</td>\n",
              "      <td>-0.072781</td>\n",
              "      <td>2.536347</td>\n",
              "      <td>1.378155</td>\n",
              "      <td>-0.338321</td>\n",
              "      <td>0.462388</td>\n",
              "      <td>0.239599</td>\n",
              "      <td>0.098698</td>\n",
              "      <td>0.363787</td>\n",
              "      <td>...</td>\n",
              "      <td>-0.018307</td>\n",
              "      <td>0.277838</td>\n",
              "      <td>-0.110474</td>\n",
              "      <td>0.066928</td>\n",
              "      <td>0.128539</td>\n",
              "      <td>-0.189115</td>\n",
              "      <td>0.133558</td>\n",
              "      <td>-0.021053</td>\n",
              "      <td>149.62</td>\n",
              "      <td>0</td>\n",
              "    </tr>\n",
              "    <tr>\n",
              "      <th>1</th>\n",
              "      <td>0.0</td>\n",
              "      <td>1.191857</td>\n",
              "      <td>0.266151</td>\n",
              "      <td>0.166480</td>\n",
              "      <td>0.448154</td>\n",
              "      <td>0.060018</td>\n",
              "      <td>-0.082361</td>\n",
              "      <td>-0.078803</td>\n",
              "      <td>0.085102</td>\n",
              "      <td>-0.255425</td>\n",
              "      <td>...</td>\n",
              "      <td>-0.225775</td>\n",
              "      <td>-0.638672</td>\n",
              "      <td>0.101288</td>\n",
              "      <td>-0.339846</td>\n",
              "      <td>0.167170</td>\n",
              "      <td>0.125895</td>\n",
              "      <td>-0.008983</td>\n",
              "      <td>0.014724</td>\n",
              "      <td>2.69</td>\n",
              "      <td>0</td>\n",
              "    </tr>\n",
              "    <tr>\n",
              "      <th>2</th>\n",
              "      <td>1.0</td>\n",
              "      <td>-1.358354</td>\n",
              "      <td>-1.340163</td>\n",
              "      <td>1.773209</td>\n",
              "      <td>0.379780</td>\n",
              "      <td>-0.503198</td>\n",
              "      <td>1.800499</td>\n",
              "      <td>0.791461</td>\n",
              "      <td>0.247676</td>\n",
              "      <td>-1.514654</td>\n",
              "      <td>...</td>\n",
              "      <td>0.247998</td>\n",
              "      <td>0.771679</td>\n",
              "      <td>0.909412</td>\n",
              "      <td>-0.689281</td>\n",
              "      <td>-0.327642</td>\n",
              "      <td>-0.139097</td>\n",
              "      <td>-0.055353</td>\n",
              "      <td>-0.059752</td>\n",
              "      <td>378.66</td>\n",
              "      <td>0</td>\n",
              "    </tr>\n",
              "    <tr>\n",
              "      <th>3</th>\n",
              "      <td>1.0</td>\n",
              "      <td>-0.966272</td>\n",
              "      <td>-0.185226</td>\n",
              "      <td>1.792993</td>\n",
              "      <td>-0.863291</td>\n",
              "      <td>-0.010309</td>\n",
              "      <td>1.247203</td>\n",
              "      <td>0.237609</td>\n",
              "      <td>0.377436</td>\n",
              "      <td>-1.387024</td>\n",
              "      <td>...</td>\n",
              "      <td>-0.108300</td>\n",
              "      <td>0.005274</td>\n",
              "      <td>-0.190321</td>\n",
              "      <td>-1.175575</td>\n",
              "      <td>0.647376</td>\n",
              "      <td>-0.221929</td>\n",
              "      <td>0.062723</td>\n",
              "      <td>0.061458</td>\n",
              "      <td>123.50</td>\n",
              "      <td>0</td>\n",
              "    </tr>\n",
              "    <tr>\n",
              "      <th>4</th>\n",
              "      <td>2.0</td>\n",
              "      <td>-1.158233</td>\n",
              "      <td>0.877737</td>\n",
              "      <td>1.548718</td>\n",
              "      <td>0.403034</td>\n",
              "      <td>-0.407193</td>\n",
              "      <td>0.095921</td>\n",
              "      <td>0.592941</td>\n",
              "      <td>-0.270533</td>\n",
              "      <td>0.817739</td>\n",
              "      <td>...</td>\n",
              "      <td>-0.009431</td>\n",
              "      <td>0.798278</td>\n",
              "      <td>-0.137458</td>\n",
              "      <td>0.141267</td>\n",
              "      <td>-0.206010</td>\n",
              "      <td>0.502292</td>\n",
              "      <td>0.219422</td>\n",
              "      <td>0.215153</td>\n",
              "      <td>69.99</td>\n",
              "      <td>0</td>\n",
              "    </tr>\n",
              "    <tr>\n",
              "      <th>...</th>\n",
              "      <td>...</td>\n",
              "      <td>...</td>\n",
              "      <td>...</td>\n",
              "      <td>...</td>\n",
              "      <td>...</td>\n",
              "      <td>...</td>\n",
              "      <td>...</td>\n",
              "      <td>...</td>\n",
              "      <td>...</td>\n",
              "      <td>...</td>\n",
              "      <td>...</td>\n",
              "      <td>...</td>\n",
              "      <td>...</td>\n",
              "      <td>...</td>\n",
              "      <td>...</td>\n",
              "      <td>...</td>\n",
              "      <td>...</td>\n",
              "      <td>...</td>\n",
              "      <td>...</td>\n",
              "      <td>...</td>\n",
              "      <td>...</td>\n",
              "    </tr>\n",
              "    <tr>\n",
              "      <th>284802</th>\n",
              "      <td>172786.0</td>\n",
              "      <td>-11.881118</td>\n",
              "      <td>10.071785</td>\n",
              "      <td>-9.834783</td>\n",
              "      <td>-2.066656</td>\n",
              "      <td>-5.364473</td>\n",
              "      <td>-2.606837</td>\n",
              "      <td>-4.918215</td>\n",
              "      <td>7.305334</td>\n",
              "      <td>1.914428</td>\n",
              "      <td>...</td>\n",
              "      <td>0.213454</td>\n",
              "      <td>0.111864</td>\n",
              "      <td>1.014480</td>\n",
              "      <td>-0.509348</td>\n",
              "      <td>1.436807</td>\n",
              "      <td>0.250034</td>\n",
              "      <td>0.943651</td>\n",
              "      <td>0.823731</td>\n",
              "      <td>0.77</td>\n",
              "      <td>0</td>\n",
              "    </tr>\n",
              "    <tr>\n",
              "      <th>284803</th>\n",
              "      <td>172787.0</td>\n",
              "      <td>-0.732789</td>\n",
              "      <td>-0.055080</td>\n",
              "      <td>2.035030</td>\n",
              "      <td>-0.738589</td>\n",
              "      <td>0.868229</td>\n",
              "      <td>1.058415</td>\n",
              "      <td>0.024330</td>\n",
              "      <td>0.294869</td>\n",
              "      <td>0.584800</td>\n",
              "      <td>...</td>\n",
              "      <td>0.214205</td>\n",
              "      <td>0.924384</td>\n",
              "      <td>0.012463</td>\n",
              "      <td>-1.016226</td>\n",
              "      <td>-0.606624</td>\n",
              "      <td>-0.395255</td>\n",
              "      <td>0.068472</td>\n",
              "      <td>-0.053527</td>\n",
              "      <td>24.79</td>\n",
              "      <td>0</td>\n",
              "    </tr>\n",
              "    <tr>\n",
              "      <th>284804</th>\n",
              "      <td>172788.0</td>\n",
              "      <td>1.919565</td>\n",
              "      <td>-0.301254</td>\n",
              "      <td>-3.249640</td>\n",
              "      <td>-0.557828</td>\n",
              "      <td>2.630515</td>\n",
              "      <td>3.031260</td>\n",
              "      <td>-0.296827</td>\n",
              "      <td>0.708417</td>\n",
              "      <td>0.432454</td>\n",
              "      <td>...</td>\n",
              "      <td>0.232045</td>\n",
              "      <td>0.578229</td>\n",
              "      <td>-0.037501</td>\n",
              "      <td>0.640134</td>\n",
              "      <td>0.265745</td>\n",
              "      <td>-0.087371</td>\n",
              "      <td>0.004455</td>\n",
              "      <td>-0.026561</td>\n",
              "      <td>67.88</td>\n",
              "      <td>0</td>\n",
              "    </tr>\n",
              "    <tr>\n",
              "      <th>284805</th>\n",
              "      <td>172788.0</td>\n",
              "      <td>-0.240440</td>\n",
              "      <td>0.530483</td>\n",
              "      <td>0.702510</td>\n",
              "      <td>0.689799</td>\n",
              "      <td>-0.377961</td>\n",
              "      <td>0.623708</td>\n",
              "      <td>-0.686180</td>\n",
              "      <td>0.679145</td>\n",
              "      <td>0.392087</td>\n",
              "      <td>...</td>\n",
              "      <td>0.265245</td>\n",
              "      <td>0.800049</td>\n",
              "      <td>-0.163298</td>\n",
              "      <td>0.123205</td>\n",
              "      <td>-0.569159</td>\n",
              "      <td>0.546668</td>\n",
              "      <td>0.108821</td>\n",
              "      <td>0.104533</td>\n",
              "      <td>10.00</td>\n",
              "      <td>0</td>\n",
              "    </tr>\n",
              "    <tr>\n",
              "      <th>284806</th>\n",
              "      <td>172792.0</td>\n",
              "      <td>-0.533413</td>\n",
              "      <td>-0.189733</td>\n",
              "      <td>0.703337</td>\n",
              "      <td>-0.506271</td>\n",
              "      <td>-0.012546</td>\n",
              "      <td>-0.649617</td>\n",
              "      <td>1.577006</td>\n",
              "      <td>-0.414650</td>\n",
              "      <td>0.486180</td>\n",
              "      <td>...</td>\n",
              "      <td>0.261057</td>\n",
              "      <td>0.643078</td>\n",
              "      <td>0.376777</td>\n",
              "      <td>0.008797</td>\n",
              "      <td>-0.473649</td>\n",
              "      <td>-0.818267</td>\n",
              "      <td>-0.002415</td>\n",
              "      <td>0.013649</td>\n",
              "      <td>217.00</td>\n",
              "      <td>0</td>\n",
              "    </tr>\n",
              "  </tbody>\n",
              "</table>\n",
              "<p>284807 rows × 31 columns</p>\n",
              "</div>\n",
              "    <div class=\"colab-df-buttons\">\n",
              "\n",
              "  <div class=\"colab-df-container\">\n",
              "    <button class=\"colab-df-convert\" onclick=\"convertToInteractive('df-a4820a06-38cc-4913-889c-da461c5af09a')\"\n",
              "            title=\"Convert this dataframe to an interactive table.\"\n",
              "            style=\"display:none;\">\n",
              "\n",
              "  <svg xmlns=\"http://www.w3.org/2000/svg\" height=\"24px\" viewBox=\"0 -960 960 960\">\n",
              "    <path d=\"M120-120v-720h720v720H120Zm60-500h600v-160H180v160Zm220 220h160v-160H400v160Zm0 220h160v-160H400v160ZM180-400h160v-160H180v160Zm440 0h160v-160H620v160ZM180-180h160v-160H180v160Zm440 0h160v-160H620v160Z\"/>\n",
              "  </svg>\n",
              "    </button>\n",
              "\n",
              "  <style>\n",
              "    .colab-df-container {\n",
              "      display:flex;\n",
              "      gap: 12px;\n",
              "    }\n",
              "\n",
              "    .colab-df-convert {\n",
              "      background-color: #E8F0FE;\n",
              "      border: none;\n",
              "      border-radius: 50%;\n",
              "      cursor: pointer;\n",
              "      display: none;\n",
              "      fill: #1967D2;\n",
              "      height: 32px;\n",
              "      padding: 0 0 0 0;\n",
              "      width: 32px;\n",
              "    }\n",
              "\n",
              "    .colab-df-convert:hover {\n",
              "      background-color: #E2EBFA;\n",
              "      box-shadow: 0px 1px 2px rgba(60, 64, 67, 0.3), 0px 1px 3px 1px rgba(60, 64, 67, 0.15);\n",
              "      fill: #174EA6;\n",
              "    }\n",
              "\n",
              "    .colab-df-buttons div {\n",
              "      margin-bottom: 4px;\n",
              "    }\n",
              "\n",
              "    [theme=dark] .colab-df-convert {\n",
              "      background-color: #3B4455;\n",
              "      fill: #D2E3FC;\n",
              "    }\n",
              "\n",
              "    [theme=dark] .colab-df-convert:hover {\n",
              "      background-color: #434B5C;\n",
              "      box-shadow: 0px 1px 3px 1px rgba(0, 0, 0, 0.15);\n",
              "      filter: drop-shadow(0px 1px 2px rgba(0, 0, 0, 0.3));\n",
              "      fill: #FFFFFF;\n",
              "    }\n",
              "  </style>\n",
              "\n",
              "    <script>\n",
              "      const buttonEl =\n",
              "        document.querySelector('#df-a4820a06-38cc-4913-889c-da461c5af09a button.colab-df-convert');\n",
              "      buttonEl.style.display =\n",
              "        google.colab.kernel.accessAllowed ? 'block' : 'none';\n",
              "\n",
              "      async function convertToInteractive(key) {\n",
              "        const element = document.querySelector('#df-a4820a06-38cc-4913-889c-da461c5af09a');\n",
              "        const dataTable =\n",
              "          await google.colab.kernel.invokeFunction('convertToInteractive',\n",
              "                                                    [key], {});\n",
              "        if (!dataTable) return;\n",
              "\n",
              "        const docLinkHtml = 'Like what you see? Visit the ' +\n",
              "          '<a target=\"_blank\" href=https://colab.research.google.com/notebooks/data_table.ipynb>data table notebook</a>'\n",
              "          + ' to learn more about interactive tables.';\n",
              "        element.innerHTML = '';\n",
              "        dataTable['output_type'] = 'display_data';\n",
              "        await google.colab.output.renderOutput(dataTable, element);\n",
              "        const docLink = document.createElement('div');\n",
              "        docLink.innerHTML = docLinkHtml;\n",
              "        element.appendChild(docLink);\n",
              "      }\n",
              "    </script>\n",
              "  </div>\n",
              "\n",
              "\n",
              "<div id=\"df-23319f18-a5d7-40f6-86a9-286604815a73\">\n",
              "  <button class=\"colab-df-quickchart\" onclick=\"quickchart('df-23319f18-a5d7-40f6-86a9-286604815a73')\"\n",
              "            title=\"Suggest charts.\"\n",
              "            style=\"display:none;\">\n",
              "\n",
              "<svg xmlns=\"http://www.w3.org/2000/svg\" height=\"24px\"viewBox=\"0 0 24 24\"\n",
              "     width=\"24px\">\n",
              "    <g>\n",
              "        <path d=\"M19 3H5c-1.1 0-2 .9-2 2v14c0 1.1.9 2 2 2h14c1.1 0 2-.9 2-2V5c0-1.1-.9-2-2-2zM9 17H7v-7h2v7zm4 0h-2V7h2v10zm4 0h-2v-4h2v4z\"/>\n",
              "    </g>\n",
              "</svg>\n",
              "  </button>\n",
              "\n",
              "<style>\n",
              "  .colab-df-quickchart {\n",
              "    background-color: #E8F0FE;\n",
              "    border: none;\n",
              "    border-radius: 50%;\n",
              "    cursor: pointer;\n",
              "    display: none;\n",
              "    fill: #1967D2;\n",
              "    height: 32px;\n",
              "    padding: 0 0 0 0;\n",
              "    width: 32px;\n",
              "  }\n",
              "\n",
              "  .colab-df-quickchart:hover {\n",
              "    background-color: #E2EBFA;\n",
              "    box-shadow: 0px 1px 2px rgba(60, 64, 67, 0.3), 0px 1px 3px 1px rgba(60, 64, 67, 0.15);\n",
              "    fill: #174EA6;\n",
              "  }\n",
              "\n",
              "  [theme=dark] .colab-df-quickchart {\n",
              "    background-color: #3B4455;\n",
              "    fill: #D2E3FC;\n",
              "  }\n",
              "\n",
              "  [theme=dark] .colab-df-quickchart:hover {\n",
              "    background-color: #434B5C;\n",
              "    box-shadow: 0px 1px 3px 1px rgba(0, 0, 0, 0.15);\n",
              "    filter: drop-shadow(0px 1px 2px rgba(0, 0, 0, 0.3));\n",
              "    fill: #FFFFFF;\n",
              "  }\n",
              "</style>\n",
              "\n",
              "  <script>\n",
              "    async function quickchart(key) {\n",
              "      const charts = await google.colab.kernel.invokeFunction(\n",
              "          'suggestCharts', [key], {});\n",
              "    }\n",
              "    (() => {\n",
              "      let quickchartButtonEl =\n",
              "        document.querySelector('#df-23319f18-a5d7-40f6-86a9-286604815a73 button');\n",
              "      quickchartButtonEl.style.display =\n",
              "        google.colab.kernel.accessAllowed ? 'block' : 'none';\n",
              "    })();\n",
              "  </script>\n",
              "</div>\n",
              "    </div>\n",
              "  </div>\n"
            ]
          },
          "metadata": {},
          "execution_count": 71
        }
      ]
    },
    {
      "cell_type": "code",
      "source": [
        "df['Class'].value_counts()\n"
      ],
      "metadata": {
        "id": "30ziMhdJRH6H"
      },
      "execution_count": null,
      "outputs": []
    },
    {
      "cell_type": "code",
      "source": [
        "df.hist(bins=20, figsize=(30,30))\n"
      ],
      "metadata": {
        "id": "h2G2Wy8gRH9d"
      },
      "execution_count": null,
      "outputs": []
    },
    {
      "cell_type": "code",
      "source": [
        "df.describe()\n"
      ],
      "metadata": {
        "id": "ab1HY3BBRS3s"
      },
      "execution_count": null,
      "outputs": []
    },
    {
      "cell_type": "code",
      "source": [
        "df['Class'].unique()\n"
      ],
      "metadata": {
        "id": "9WHN7AraRS6o"
      },
      "execution_count": null,
      "outputs": []
    },
    {
      "cell_type": "code",
      "source": [
        "new_df['Amount'][(new_df['Amount']>50)].hist(bins=20, figsize=(10,10))\n"
      ],
      "metadata": {
        "id": "ZnZgixxbRS9M"
      },
      "execution_count": null,
      "outputs": []
    },
    {
      "cell_type": "code",
      "source": [
        "df['Amount'].dtypes"
      ],
      "metadata": {
        "id": "zIMmU1TYRS_N"
      },
      "execution_count": null,
      "outputs": []
    },
    {
      "cell_type": "markdown",
      "source": [
        "**WORKFLOW**"
      ],
      "metadata": {
        "id": "sjfj8_IItWm7"
      }
    },
    {
      "cell_type": "markdown",
      "source": [
        "**Pre-Processing**"
      ],
      "metadata": {
        "id": "FrGbLpUWrhpY"
      }
    },
    {
      "cell_type": "code",
      "source": [
        "coloumns_to_scale =['Time','Amount']\n",
        "new_df =Robust_Scaler_M(df,coloumns_to_scale)"
      ],
      "metadata": {
        "id": "jeYB_FqbcPU1"
      },
      "execution_count": 72,
      "outputs": []
    },
    {
      "cell_type": "markdown",
      "source": [
        "**data spliting for the model traing and testing**"
      ],
      "metadata": {
        "id": "LwBseb-irot_"
      }
    },
    {
      "cell_type": "code",
      "source": [
        "X_train, X_test, X_val, y_train, y_test, y_val = t_t_s_skl(new_df, 0.2, 0.5)"
      ],
      "metadata": {
        "colab": {
          "base_uri": "https://localhost:8080/"
        },
        "id": "98JTUI_-vTd_",
        "outputId": "8098bf9d-2f27-46af-9fa9-c10be8ad9b6c"
      },
      "execution_count": 73,
      "outputs": [
        {
          "output_type": "stream",
          "name": "stdout",
          "text": [
            "Shapes:\n",
            "X_train: (227845, 30)\n",
            "X_temp: (56962, 30)\n",
            "y_train: (227845,)\n",
            "y_temp: (56962,)\n",
            "X_test: (28481, 30)\n",
            "X_val: (28481, 30)\n",
            "y_test: (28481,)\n",
            "y_val: (28481,)\n"
          ]
        }
      ]
    },
    {
      "cell_type": "code",
      "source": [],
      "metadata": {
        "id": "5NVBO0I2pIgL"
      },
      "execution_count": null,
      "outputs": []
    },
    {
      "cell_type": "markdown",
      "source": [
        "**Training the model**"
      ],
      "metadata": {
        "id": "rMqCCpg6jvT3"
      }
    },
    {
      "cell_type": "code",
      "source": [
        "#y_test_pred,y_test_pred_score, y_val_pred, y_val_pred_score = logistic_regression(X_train, y_train)"
      ],
      "metadata": {
        "id": "j_EY5qaRtJ6K"
      },
      "execution_count": null,
      "outputs": []
    },
    {
      "cell_type": "code",
      "source": [
        "l_m, y_val_pred, y_val_pred_prob, fpr, tpr, thresholds, roc_auc = logistic_regression(X_train, y_train, X_test, y_test, X_val, y_val)\n"
      ],
      "metadata": {
        "id": "Pbrg9GghLHQT",
        "colab": {
          "base_uri": "https://localhost:8080/"
        },
        "outputId": "01c1da85-e044-4592-bdbb-07d1aa51bb2e"
      },
      "execution_count": null,
      "outputs": [
        {
          "output_type": "stream",
          "name": "stderr",
          "text": [
            "/usr/local/lib/python3.10/dist-packages/sklearn/linear_model/_logistic.py:458: ConvergenceWarning: lbfgs failed to converge (status=1):\n",
            "STOP: TOTAL NO. of ITERATIONS REACHED LIMIT.\n",
            "\n",
            "Increase the number of iterations (max_iter) or scale the data as shown in:\n",
            "    https://scikit-learn.org/stable/modules/preprocessing.html\n",
            "Please also refer to the documentation for alternative solver options:\n",
            "    https://scikit-learn.org/stable/modules/linear_model.html#logistic-regression\n",
            "  n_iter_i = _check_optimize_result(\n"
          ]
        },
        {
          "output_type": "stream",
          "name": "stdout",
          "text": [
            "Metrics for the train data:\n",
            "               precision    recall  f1-score   support\n",
            "\n",
            "   Not Fraud       1.00      1.00      1.00    227451\n",
            "       Fraud       0.90      0.63      0.74       394\n",
            "\n",
            "    accuracy                           1.00    227845\n",
            "   macro avg       0.95      0.81      0.87    227845\n",
            "weighted avg       1.00      1.00      1.00    227845\n",
            "\n",
            "Metrics for the test data:\n",
            "               precision    recall  f1-score   support\n",
            "\n",
            "   Not Fraud       1.00      1.00      1.00     28426\n",
            "       Fraud       0.84      0.58      0.69        55\n",
            "\n",
            "    accuracy                           1.00     28481\n",
            "   macro avg       0.92      0.79      0.84     28481\n",
            "weighted avg       1.00      1.00      1.00     28481\n",
            "\n",
            "Metrics for the validation data:\n",
            "               precision    recall  f1-score   support\n",
            "\n",
            "   Not Fraud       1.00      1.00      1.00     28438\n",
            "       Fraud       0.89      0.58      0.70        43\n",
            "\n",
            "    accuracy                           1.00     28481\n",
            "   macro avg       0.95      0.79      0.85     28481\n",
            "weighted avg       1.00      1.00      1.00     28481\n",
            "\n"
          ]
        }
      ]
    },
    {
      "cell_type": "code",
      "source": [],
      "metadata": {
        "id": "fjzZrNHFLHS3"
      },
      "execution_count": null,
      "outputs": []
    },
    {
      "cell_type": "markdown",
      "source": [
        "**Evaluation metrics**"
      ],
      "metadata": {
        "id": "UYXWeFG8JiSK"
      }
    },
    {
      "cell_type": "code",
      "source": [],
      "metadata": {
        "id": "LLVpNqWBvw3D"
      },
      "execution_count": null,
      "outputs": []
    },
    {
      "cell_type": "markdown",
      "source": [
        "Logistics regression model"
      ],
      "metadata": {
        "id": "YSA2xsHqB2VE"
      }
    },
    {
      "cell_type": "code",
      "source": [
        "C_M_val(y_val, y_val_pred)"
      ],
      "metadata": {
        "colab": {
          "base_uri": "https://localhost:8080/",
          "height": 564
        },
        "id": "JEidtPsPJpXX",
        "outputId": "e3ca4ec7-0e18-447f-a8e8-932d46977c41"
      },
      "execution_count": null,
      "outputs": [
        {
          "output_type": "display_data",
          "data": {
            "text/plain": [
              "<Figure size 800x600 with 2 Axes>"
            ],
            "image/png": "[encoded data removed]"
          },
          "metadata": {}
        }
      ]
    },
    {
      "cell_type": "code",
      "source": [],
      "metadata": {
        "id": "W21tl-SgJpZq"
      },
      "execution_count": null,
      "outputs": []
    },
    {
      "cell_type": "code",
      "source": [
        "plot_ROC_C(y_val, y_val_pred_prob)"
      ],
      "metadata": {
        "colab": {
          "base_uri": "https://localhost:8080/",
          "height": 564
        },
        "id": "nTlmbml32ETB",
        "outputId": "ea6d3a8e-2703-4483-ced0-709461d3aa52"
      },
      "execution_count": null,
      "outputs": [
        {
          "output_type": "display_data",
          "data": {
            "text/plain": [
              "<Figure size 800x600 with 1 Axes>"
            ],
            "image/png": "[encoded data removed]"
          },
          "metadata": {}
        }
      ]
    },
    {
      "cell_type": "code",
      "source": [],
      "metadata": {
        "id": "68WA04qI2EVZ"
      },
      "execution_count": null,
      "outputs": []
    },
    {
      "cell_type": "code",
      "source": [],
      "metadata": {
        "id": "CmwlMlV62EYz"
      },
      "execution_count": null,
      "outputs": []
    },
    {
      "cell_type": "code",
      "source": [],
      "metadata": {
        "id": "mqGVkZTE2Ecz"
      },
      "execution_count": null,
      "outputs": []
    },
    {
      "cell_type": "markdown",
      "source": [
        "Tensorflow, Neural network"
      ],
      "metadata": {
        "id": "satWlPF0iK5c"
      }
    },
    {
      "cell_type": "code",
      "source": [
        "summary, shallow_nn_model= neural_net(X_train, y_train, X_val, y_val)"
      ],
      "metadata": {
        "colab": {
          "base_uri": "https://localhost:8080/"
        },
        "id": "dOO9LEhKEgkT",
        "outputId": "29e54ca2-fd11-49d8-974d-77ad9fc13c71"
      },
      "execution_count": null,
      "outputs": [
        {
          "output_type": "stream",
          "name": "stdout",
          "text": [
            "Model: \"sequential_1\"\n",
            "_________________________________________________________________\n",
            " Layer (type)                Output Shape              Param #   \n",
            "=================================================================\n",
            " dense_2 (Dense)             (None, 2)                 62        \n",
            "                                                                 \n",
            " batch_normalization_1 (Batc  (None, 2)                8         \n",
            " hNormalization)                                                 \n",
            "                                                                 \n",
            " dense_3 (Dense)             (None, 1)                 3         \n",
            "                                                                 \n",
            "=================================================================\n",
            "Total params: 73\n",
            "Trainable params: 69\n",
            "Non-trainable params: 4\n",
            "_________________________________________________________________\n",
            "Enter the number of epochs: 5\n",
            "Epoch 1/5\n",
            "7110/7121 [============================>.] - ETA: 0s - loss: 0.0528 - accuracy: 0.9883"
          ]
        },
        {
          "output_type": "stream",
          "name": "stderr",
          "text": [
            "WARNING:absl:Found untraced functions such as _update_step_xla while saving (showing 1 of 1). These functions will not be directly callable after loading.\n"
          ]
        },
        {
          "output_type": "stream",
          "name": "stdout",
          "text": [
            "\b\b\b\b\b\b\b\b\b\b\b\b\b\b\b\b\b\b\b\b\b\b\b\b\b\b\b\b\b\b\b\b\b\b\b\b\b\b\b\b\b\b\b\b\b\b\b\b\b\b\b\b\b\b\b\b\b\b\b\b\b\b\b\b\b\b\b\b\b\b\b\b\b\b\b\b\b\b\b\b\b\b\b\b\b\b\r7121/7121 [==============================] - 23s 3ms/step - loss: 0.0527 - accuracy: 0.9883 - val_loss: 0.0046 - val_accuracy: 0.9994\n",
            "Epoch 2/5\n",
            "7121/7121 [==============================] - 22s 3ms/step - loss: 0.0033 - accuracy: 0.9994 - val_loss: 0.0046 - val_accuracy: 0.9994\n",
            "Epoch 3/5\n",
            "7121/7121 [==============================] - 21s 3ms/step - loss: 0.0033 - accuracy: 0.9993 - val_loss: 0.0050 - val_accuracy: 0.9993\n",
            "Epoch 4/5\n",
            "7119/7121 [============================>.] - ETA: 0s - loss: 0.0032 - accuracy: 0.9994"
          ]
        },
        {
          "output_type": "stream",
          "name": "stderr",
          "text": [
            "WARNING:absl:Found untraced functions such as _update_step_xla while saving (showing 1 of 1). These functions will not be directly callable after loading.\n"
          ]
        },
        {
          "output_type": "stream",
          "name": "stdout",
          "text": [
            "\b\b\b\b\b\b\b\b\b\b\b\b\b\b\b\b\b\b\b\b\b\b\b\b\b\b\b\b\b\b\b\b\b\b\b\b\b\b\b\b\b\b\b\b\b\b\b\b\b\b\b\b\b\b\b\b\b\b\b\b\b\b\b\b\b\b\b\b\b\b\b\b\b\b\b\b\b\b\b\b\b\b\b\b\b\b\r7121/7121 [==============================] - 21s 3ms/step - loss: 0.0032 - accuracy: 0.9994 - val_loss: 0.0046 - val_accuracy: 0.9993\n",
            "Epoch 5/5\n",
            "7121/7121 [==============================] - 23s 3ms/step - loss: 0.0033 - accuracy: 0.9994 - val_loss: 0.0049 - val_accuracy: 0.9992\n"
          ]
        }
      ]
    },
    {
      "cell_type": "code",
      "source": [
        "print(classification_report(y_val, predict_m(shallow_nn_model, X_val), target_names=['Not Fraud','Fraud']))\n"
      ],
      "metadata": {
        "colab": {
          "base_uri": "https://localhost:8080/"
        },
        "id": "Cf-4DiGYJ85y",
        "outputId": "3e88323f-6e60-46ba-c985-eb09e5d77393"
      },
      "execution_count": null,
      "outputs": [
        {
          "output_type": "stream",
          "name": "stdout",
          "text": [
            "891/891 [==============================] - 2s 2ms/step\n",
            "              precision    recall  f1-score   support\n",
            "\n",
            "   Not Fraud       1.00      1.00      1.00     28438\n",
            "       Fraud       0.72      0.79      0.76        43\n",
            "\n",
            "    accuracy                           1.00     28481\n",
            "   macro avg       0.86      0.90      0.88     28481\n",
            "weighted avg       1.00      1.00      1.00     28481\n",
            "\n"
          ]
        }
      ]
    },
    {
      "cell_type": "code",
      "source": [
        "C_M_val(y_val, predict_m(shallow_nn_model, X_val))"
      ],
      "metadata": {
        "id": "Ca5vJ1VonXt2",
        "colab": {
          "base_uri": "https://localhost:8080/",
          "height": 581
        },
        "outputId": "cab57968-e091-4c90-da16-1135984a94c0"
      },
      "execution_count": null,
      "outputs": [
        {
          "output_type": "stream",
          "name": "stdout",
          "text": [
            "891/891 [==============================] - 1s 2ms/step\n"
          ]
        },
        {
          "output_type": "display_data",
          "data": {
            "text/plain": [
              "<Figure size 800x600 with 2 Axes>"
            ],
            "image/png": "[encoded data removed]"
          },
          "metadata": {}
        }
      ]
    },
    {
      "cell_type": "code",
      "source": [],
      "metadata": {
        "id": "nZQn_oVb_hR_"
      },
      "execution_count": null,
      "outputs": []
    },
    {
      "cell_type": "code",
      "source": [],
      "metadata": {
        "id": "AB-AMGnT_hbC"
      },
      "execution_count": null,
      "outputs": []
    },
    {
      "cell_type": "markdown",
      "source": [
        "*RandomForestClassifier*"
      ],
      "metadata": {
        "id": "kHq9lcDPCIYC"
      }
    },
    {
      "cell_type": "code",
      "source": [],
      "metadata": {
        "id": "2M17texjMO64"
      },
      "execution_count": null,
      "outputs": []
    },
    {
      "cell_type": "code",
      "source": [
        "rf_model = random_forest(50,-1,X_train, y_train, X_val, y_val)\n"
      ],
      "metadata": {
        "id": "cFbcRugzMPAN",
        "colab": {
          "base_uri": "https://localhost:8080/"
        },
        "outputId": "385e82fb-f93f-496a-bc96-7e84306330c0"
      },
      "execution_count": null,
      "outputs": [
        {
          "output_type": "stream",
          "name": "stdout",
          "text": [
            "Classification Report for Validation Data:\n",
            "              precision    recall  f1-score   support\n",
            "\n",
            "   Not Fraud       1.00      1.00      1.00     28438\n",
            "       Fraud       0.97      0.79      0.87        43\n",
            "\n",
            "    accuracy                           1.00     28481\n",
            "   macro avg       0.99      0.90      0.94     28481\n",
            "weighted avg       1.00      1.00      1.00     28481\n",
            "\n"
          ]
        }
      ]
    },
    {
      "cell_type": "code",
      "source": [],
      "metadata": {
        "id": "P5p9spkaPTn_"
      },
      "execution_count": null,
      "outputs": []
    },
    {
      "cell_type": "markdown",
      "source": [
        "*GradientBoostingClassifier*"
      ],
      "metadata": {
        "id": "DAxtDICeCPo6"
      }
    },
    {
      "cell_type": "code",
      "metadata": {
        "id": "WAGaSL1dkZmN"
      },
      "source": [],
      "execution_count": null,
      "outputs": []
    },
    {
      "cell_type": "code",
      "source": [
        "g_b_c_model= G_B_C(50,1.0, 1, X_train, y_train)\n",
        "\n"
      ],
      "metadata": {
        "id": "tEgN18jynp8C",
        "colab": {
          "base_uri": "https://localhost:8080/"
        },
        "outputId": "dc22d896-be8c-45f4-acdc-d25df4a369d1"
      },
      "execution_count": null,
      "outputs": [
        {
          "output_type": "stream",
          "name": "stdout",
          "text": [
            "              precision    recall  f1-score   support\n",
            "\n",
            "   Not Fraud       1.00      1.00      1.00     28438\n",
            "       Fraud       0.68      0.70      0.69        43\n",
            "\n",
            "    accuracy                           1.00     28481\n",
            "   macro avg       0.84      0.85      0.84     28481\n",
            "weighted avg       1.00      1.00      1.00     28481\n",
            "\n"
          ]
        }
      ]
    },
    {
      "cell_type": "code",
      "source": [],
      "metadata": {
        "id": "QQEAWxenWJ7B"
      },
      "execution_count": null,
      "outputs": []
    },
    {
      "cell_type": "markdown",
      "source": [
        "*LinearSVC*"
      ],
      "metadata": {
        "id": "mmEymkBOCUTC"
      }
    },
    {
      "cell_type": "code",
      "metadata": {
        "id": "akkimsljop8I"
      },
      "source": [
        "\n",
        "def S_V_C(X_train,y_train):\n",
        "    svc = LinearSVC(class_weight='balanced')\n",
        "    svc.fit(X_train, y_train)\n",
        "    print(classification_report(y_val, svc.predict(X_val), target_names=['Not Fraud', 'Fraud']))\n",
        "    return svc\n",
        "\n",
        "#Call this fucntion by # S_V_C_model = S_V_C(X_train,y_train)"
      ],
      "execution_count": null,
      "outputs": []
    },
    {
      "cell_type": "code",
      "source": [
        "S_V_C_model = S_V_C(X_train,y_train)\n"
      ],
      "metadata": {
        "id": "a9B-mzz317Hc",
        "colab": {
          "base_uri": "https://localhost:8080/"
        },
        "outputId": "2c465080-a21f-465a-f771-18f9fa0d29d0"
      },
      "execution_count": null,
      "outputs": [
        {
          "output_type": "stream",
          "name": "stdout",
          "text": [
            "              precision    recall  f1-score   support\n",
            "\n",
            "   Not Fraud       1.00      1.00      1.00     28438\n",
            "       Fraud       0.75      0.70      0.72        43\n",
            "\n",
            "    accuracy                           1.00     28481\n",
            "   macro avg       0.87      0.85      0.86     28481\n",
            "weighted avg       1.00      1.00      1.00     28481\n",
            "\n"
          ]
        },
        {
          "output_type": "stream",
          "name": "stderr",
          "text": [
            "/usr/local/lib/python3.10/dist-packages/sklearn/svm/_base.py:1244: ConvergenceWarning: Liblinear failed to converge, increase the number of iterations.\n",
            "  warnings.warn(\n"
          ]
        }
      ]
    },
    {
      "cell_type": "markdown",
      "source": [
        "**Balanced Dataframe on previous models**"
      ],
      "metadata": {
        "id": "NtvJ8jnT17lj"
      }
    },
    {
      "cell_type": "code",
      "source": [
        "def dataframe_b(unbalanced_df):\n",
        "    not_frauds = new_df.query('Class == 0')\n",
        "    frauds = new_df.query('Class == 1')\n",
        "    not_frauds['Class'].value_counts(), frauds['Class'].value_counts()\n",
        "    balanced_dataframe= unbalanced_df.sample(len(frauds), random_state=33)\n",
        "    balanced_dataframe = unbalanced_df.sample(frac=1, random_state=1)\n",
        "    return balanced_dataframe\n",
        "\n",
        "# Call this fucntion by balanced_dataframe = dataframe_b(new_df)"
      ],
      "metadata": {
        "id": "lasdGyT8diFV"
      },
      "execution_count": 74,
      "outputs": []
    },
    {
      "cell_type": "code",
      "source": [
        "balanced_dataframe = dataframe_b(new_df)"
      ],
      "metadata": {
        "id": "oBWfSf0oovay"
      },
      "execution_count": 75,
      "outputs": []
    },
    {
      "cell_type": "code",
      "source": [
        "X_train_b, X_test_b, X_val_b, y_train_b, y_test_b, y_val_b = t_t_s_skl(balanced_dataframe, 0.2, 0.5)"
      ],
      "metadata": {
        "colab": {
          "base_uri": "https://localhost:8080/"
        },
        "id": "IaILFJV8pO-x",
        "outputId": "6dcb6162-6f38-4aac-9901-ca49a3cf336b"
      },
      "execution_count": 76,
      "outputs": [
        {
          "output_type": "stream",
          "name": "stdout",
          "text": [
            "Shapes:\n",
            "X_train: (227845, 30)\n",
            "X_temp: (56962, 30)\n",
            "y_train: (227845,)\n",
            "y_temp: (56962,)\n",
            "X_test: (28481, 30)\n",
            "X_val: (28481, 30)\n",
            "y_test: (28481,)\n",
            "y_val: (28481,)\n"
          ]
        }
      ]
    },
    {
      "cell_type": "code",
      "source": [],
      "metadata": {
        "id": "TrC-3EvWCkrT"
      },
      "execution_count": null,
      "outputs": []
    },
    {
      "cell_type": "markdown",
      "source": [
        "*LogisticRegression*"
      ],
      "metadata": {
        "id": "VaY1oLXiCory"
      }
    },
    {
      "cell_type": "code",
      "source": [
        "l_m, y_val_pred_b, y_val_pred_prob_b, fpr_b, tpr_b, thresholds_b, roc_auc_b = logistic_regression(X_train_b, y_train_b, X_test_b, y_test_b, X_val_b, y_val_b)\n"
      ],
      "metadata": {
        "colab": {
          "base_uri": "https://localhost:8080/"
        },
        "id": "H8LoLG5GkX1s",
        "outputId": "28b95257-4c80-4a4e-95f5-c85df3d39b5d"
      },
      "execution_count": 79,
      "outputs": [
        {
          "output_type": "stream",
          "name": "stderr",
          "text": [
            "/usr/local/lib/python3.10/dist-packages/sklearn/linear_model/_logistic.py:458: ConvergenceWarning: lbfgs failed to converge (status=1):\n",
            "STOP: TOTAL NO. of ITERATIONS REACHED LIMIT.\n",
            "\n",
            "Increase the number of iterations (max_iter) or scale the data as shown in:\n",
            "    https://scikit-learn.org/stable/modules/preprocessing.html\n",
            "Please also refer to the documentation for alternative solver options:\n",
            "    https://scikit-learn.org/stable/modules/linear_model.html#logistic-regression\n",
            "  n_iter_i = _check_optimize_result(\n"
          ]
        },
        {
          "output_type": "stream",
          "name": "stdout",
          "text": [
            "Metrics for the train data:\n",
            "               precision    recall  f1-score   support\n",
            "\n",
            "   Not Fraud       1.00      1.00      1.00    227440\n",
            "       Fraud       0.87      0.61      0.72       405\n",
            "\n",
            "    accuracy                           1.00    227845\n",
            "   macro avg       0.93      0.81      0.86    227845\n",
            "weighted avg       1.00      1.00      1.00    227845\n",
            "\n",
            "Metrics for the test data:\n",
            "               precision    recall  f1-score   support\n",
            "\n",
            "   Not Fraud       1.00      1.00      1.00     28436\n",
            "       Fraud       0.90      0.58      0.70        45\n",
            "\n",
            "    accuracy                           1.00     28481\n",
            "   macro avg       0.95      0.79      0.85     28481\n",
            "weighted avg       1.00      1.00      1.00     28481\n",
            "\n",
            "Metrics for the validation data:\n",
            "               precision    recall  f1-score   support\n",
            "\n",
            "   Not Fraud       1.00      1.00      1.00     28439\n",
            "       Fraud       0.90      0.62      0.73        42\n",
            "\n",
            "    accuracy                           1.00     28481\n",
            "   macro avg       0.95      0.81      0.87     28481\n",
            "weighted avg       1.00      1.00      1.00     28481\n",
            "\n"
          ]
        }
      ]
    },
    {
      "cell_type": "code",
      "source": [],
      "metadata": {
        "id": "kdB_rj-fqZRr"
      },
      "execution_count": null,
      "outputs": []
    },
    {
      "cell_type": "code",
      "source": [],
      "metadata": {
        "id": "eXa912L1DJlf"
      },
      "execution_count": null,
      "outputs": []
    },
    {
      "cell_type": "code",
      "source": [],
      "metadata": {
        "id": "-rpuojYPDJsB"
      },
      "execution_count": null,
      "outputs": []
    },
    {
      "cell_type": "markdown",
      "source": [
        "*Neural net model on the balanced data*"
      ],
      "metadata": {
        "id": "HppeCSu5CrSS"
      }
    },
    {
      "cell_type": "code",
      "source": [
        "summary, shallow_nn_model_b= neural_net(X_train_b, y_train_b, X_val_b, y_val_b)"
      ],
      "metadata": {
        "colab": {
          "base_uri": "https://localhost:8080/"
        },
        "id": "jpo3iJpEDy4-",
        "outputId": "ab536e68-a239-4f20-d559-ba52da5ab31b"
      },
      "execution_count": 91,
      "outputs": [
        {
          "output_type": "stream",
          "name": "stdout",
          "text": [
            "Model: \"sequential_4\"\n",
            "_________________________________________________________________\n",
            " Layer (type)                Output Shape              Param #   \n",
            "=================================================================\n",
            " dense_8 (Dense)             (None, 2)                 62        \n",
            "                                                                 \n",
            " batch_normalization_4 (Batc  (None, 2)                8         \n",
            " hNormalization)                                                 \n",
            "                                                                 \n",
            " dense_9 (Dense)             (None, 1)                 3         \n",
            "                                                                 \n",
            "=================================================================\n",
            "Total params: 73\n",
            "Trainable params: 69\n",
            "Non-trainable params: 4\n",
            "_________________________________________________________________\n",
            "Enter the number of epochs: 5\n",
            "Epoch 1/5\n",
            "7121/7121 [==============================] - ETA: 0s - loss: 0.0534 - accuracy: 0.9846"
          ]
        },
        {
          "output_type": "stream",
          "name": "stderr",
          "text": [
            "WARNING:absl:Found untraced functions such as _update_step_xla while saving (showing 1 of 1). These functions will not be directly callable after loading.\n"
          ]
        },
        {
          "output_type": "stream",
          "name": "stdout",
          "text": [
            "\b\b\b\b\b\b\b\b\b\b\b\b\b\b\b\b\b\b\b\b\b\b\b\b\b\b\b\b\b\b\b\b\b\b\b\b\b\b\b\b\b\b\b\b\b\b\b\b\b\b\b\b\b\b\b\b\b\b\b\b\b\b\b\b\b\b\b\b\b\b\b\b\b\b\b\b\b\b\b\b\b\b\b\b\b\b\r7121/7121 [==============================] - 22s 3ms/step - loss: 0.0534 - accuracy: 0.9846 - val_loss: 0.0087 - val_accuracy: 0.9994\n",
            "Epoch 2/5\n",
            "7107/7121 [============================>.] - ETA: 0s - loss: 0.0037 - accuracy: 0.9993"
          ]
        },
        {
          "output_type": "stream",
          "name": "stderr",
          "text": [
            "WARNING:absl:Found untraced functions such as _update_step_xla while saving (showing 1 of 1). These functions will not be directly callable after loading.\n"
          ]
        },
        {
          "output_type": "stream",
          "name": "stdout",
          "text": [
            "\b\b\b\b\b\b\b\b\b\b\b\b\b\b\b\b\b\b\b\b\b\b\b\b\b\b\b\b\b\b\b\b\b\b\b\b\b\b\b\b\b\b\b\b\b\b\b\b\b\b\b\b\b\b\b\b\b\b\b\b\b\b\b\b\b\b\b\b\b\b\b\b\b\b\b\b\b\b\b\b\b\b\b\b\b\b\r7121/7121 [==============================] - 19s 3ms/step - loss: 0.0037 - accuracy: 0.9993 - val_loss: 0.0086 - val_accuracy: 0.9994\n",
            "Epoch 3/5\n",
            "7121/7121 [==============================] - 19s 3ms/step - loss: 0.0036 - accuracy: 0.9993 - val_loss: 0.0087 - val_accuracy: 0.9994\n",
            "Epoch 4/5\n",
            "7107/7121 [============================>.] - ETA: 0s - loss: 0.0035 - accuracy: 0.9993"
          ]
        },
        {
          "output_type": "stream",
          "name": "stderr",
          "text": [
            "WARNING:absl:Found untraced functions such as _update_step_xla while saving (showing 1 of 1). These functions will not be directly callable after loading.\n"
          ]
        },
        {
          "output_type": "stream",
          "name": "stdout",
          "text": [
            "\b\b\b\b\b\b\b\b\b\b\b\b\b\b\b\b\b\b\b\b\b\b\b\b\b\b\b\b\b\b\b\b\b\b\b\b\b\b\b\b\b\b\b\b\b\b\b\b\b\b\b\b\b\b\b\b\b\b\b\b\b\b\b\b\b\b\b\b\b\b\b\b\b\b\b\b\b\b\b\b\b\b\b\b\b\b\r7121/7121 [==============================] - 23s 3ms/step - loss: 0.0034 - accuracy: 0.9993 - val_loss: 0.0081 - val_accuracy: 0.9995\n",
            "Epoch 5/5\n",
            "7109/7121 [============================>.] - ETA: 0s - loss: 0.0035 - accuracy: 0.9993"
          ]
        },
        {
          "output_type": "stream",
          "name": "stderr",
          "text": [
            "WARNING:absl:Found untraced functions such as _update_step_xla while saving (showing 1 of 1). These functions will not be directly callable after loading.\n"
          ]
        },
        {
          "output_type": "stream",
          "name": "stdout",
          "text": [
            "\b\b\b\b\b\b\b\b\b\b\b\b\b\b\b\b\b\b\b\b\b\b\b\b\b\b\b\b\b\b\b\b\b\b\b\b\b\b\b\b\b\b\b\b\b\b\b\b\b\b\b\b\b\b\b\b\b\b\b\b\b\b\b\b\b\b\b\b\b\b\b\b\b\b\b\b\b\b\b\b\b\b\b\b\b\b\r7121/7121 [==============================] - 19s 3ms/step - loss: 0.0035 - accuracy: 0.9993 - val_loss: 0.0079 - val_accuracy: 0.9994\n"
          ]
        }
      ]
    },
    {
      "cell_type": "code",
      "source": [
        "print(classification_report(y_val_b,predict_m(shallow_nn_model_b, X_val_b), target_names=['Not Fraud','Fraud'] ))"
      ],
      "metadata": {
        "colab": {
          "base_uri": "https://localhost:8080/"
        },
        "id": "1-FvPCUUKzE4",
        "outputId": "e063c113-6f1b-4e15-c808-b7550594d35e"
      },
      "execution_count": 92,
      "outputs": [
        {
          "output_type": "stream",
          "name": "stdout",
          "text": [
            "891/891 [==============================] - 2s 2ms/step\n",
            "              precision    recall  f1-score   support\n",
            "\n",
            "   Not Fraud       1.00      1.00      1.00     28439\n",
            "       Fraud       0.82      0.79      0.80        42\n",
            "\n",
            "    accuracy                           1.00     28481\n",
            "   macro avg       0.91      0.89      0.90     28481\n",
            "weighted avg       1.00      1.00      1.00     28481\n",
            "\n"
          ]
        }
      ]
    },
    {
      "cell_type": "markdown",
      "source": [
        "RandomForestClassifier"
      ],
      "metadata": {
        "id": "1rjA-e0EDn6W"
      }
    },
    {
      "cell_type": "code",
      "source": [
        "rf_model = random_forest(50,-1,X_train, y_train, X_val, y_val)\n"
      ],
      "metadata": {
        "colab": {
          "base_uri": "https://localhost:8080/"
        },
        "id": "YNadURn8DxBe",
        "outputId": "c8d45fec-c603-4f2d-81e4-454c1a89b76c"
      },
      "execution_count": 83,
      "outputs": [
        {
          "output_type": "stream",
          "name": "stdout",
          "text": [
            "Classification Report for Validation Data:\n",
            "              precision    recall  f1-score   support\n",
            "\n",
            "   Not Fraud       1.00      1.00      1.00     28438\n",
            "       Fraud       0.94      0.79      0.86        43\n",
            "\n",
            "    accuracy                           1.00     28481\n",
            "   macro avg       0.97      0.90      0.93     28481\n",
            "weighted avg       1.00      1.00      1.00     28481\n",
            "\n"
          ]
        }
      ]
    },
    {
      "cell_type": "markdown",
      "source": [
        "GradientBoostingClassifier on the balanced data"
      ],
      "metadata": {
        "id": "9O1aRu9bDgw1"
      }
    },
    {
      "cell_type": "code",
      "source": [
        "g_b_c_model= G_B_C(50,1.0, 1, X_train_b, y_train_b)\n"
      ],
      "metadata": {
        "colab": {
          "base_uri": "https://localhost:8080/"
        },
        "id": "dJdk59CMDXDf",
        "outputId": "f5bf7a37-b200-413e-ee58-341007706b8f"
      },
      "execution_count": 82,
      "outputs": [
        {
          "output_type": "stream",
          "name": "stdout",
          "text": [
            "              precision    recall  f1-score   support\n",
            "\n",
            "   Not Fraud       1.00      1.00      1.00     28438\n",
            "       Fraud       0.68      0.70      0.69        43\n",
            "\n",
            "    accuracy                           1.00     28481\n",
            "   macro avg       0.84      0.85      0.84     28481\n",
            "weighted avg       1.00      1.00      1.00     28481\n",
            "\n"
          ]
        }
      ]
    },
    {
      "cell_type": "markdown",
      "source": [
        "Support Vector Classifier on the balanced data"
      ],
      "metadata": {
        "id": "Z8jURW72DXO2"
      }
    },
    {
      "cell_type": "code",
      "source": [
        "S_V_C_model = S_V_C(X_train_b,y_train_b)\n"
      ],
      "metadata": {
        "id": "Q68lQDaX2SIh",
        "colab": {
          "base_uri": "https://localhost:8080/"
        },
        "outputId": "b42dcb15-6c4e-48c5-c46d-f55559b6e10c"
      },
      "execution_count": 80,
      "outputs": [
        {
          "output_type": "stream",
          "name": "stdout",
          "text": [
            "              precision    recall  f1-score   support\n",
            "\n",
            "   Not Fraud       1.00      1.00      1.00     28438\n",
            "       Fraud       0.79      0.70      0.74        43\n",
            "\n",
            "    accuracy                           1.00     28481\n",
            "   macro avg       0.89      0.85      0.87     28481\n",
            "weighted avg       1.00      1.00      1.00     28481\n",
            "\n"
          ]
        },
        {
          "output_type": "stream",
          "name": "stderr",
          "text": [
            "/usr/local/lib/python3.10/dist-packages/sklearn/svm/_base.py:1244: ConvergenceWarning: Liblinear failed to converge, increase the number of iterations.\n",
            "  warnings.warn(\n"
          ]
        }
      ]
    },
    {
      "cell_type": "code",
      "source": [],
      "metadata": {
        "id": "9BpfnrQl2SLf"
      },
      "execution_count": null,
      "outputs": []
    }
  ]
}